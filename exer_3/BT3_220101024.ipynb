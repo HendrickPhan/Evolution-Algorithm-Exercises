{
 "cells": [
  {
   "cell_type": "code",
   "execution_count": 26,
   "metadata": {},
   "outputs": [],
   "source": [
    "%matplotlib inline\n",
    "import matplotlib as mpl\n",
    "import matplotlib.pyplot as plt\n",
    "import numpy as np\n",
    "import math\n",
    "import seaborn as sns\n",
    "\n",
    "#random seed dùng trong  np.random.seed(xxxxxx) là  6 chữ số cuối cùng trong mã số học viên cao học.\n",
    "np.random.seed(101024)\n",
    "rng = np.random.default_rng()\n",
    "sns.set_theme(style='whitegrid')"
   ]
  },
  {
   "cell_type": "code",
   "execution_count": 27,
   "metadata": {},
   "outputs": [],
   "source": [
    "# Phát sinh N = 15 thành phố.\n",
    "n_cities = 15\n",
    "cities = np.random.rand(n_cities, 2)"
   ]
  },
  {
   "cell_type": "code",
   "execution_count": 28,
   "metadata": {},
   "outputs": [
    {
     "data": {
      "image/png": "[encoded data removed]",
      "text/plain": [
       "<Figure size 640x480 with 1 Axes>"
      ]
     },
     "metadata": {},
     "output_type": "display_data"
    }
   ],
   "source": [
    "plt.scatter(cities[:, 0], cities[:, 1])\n",
    "plt.title(\"Cities\");"
   ]
  },
  {
   "cell_type": "code",
   "execution_count": 29,
   "metadata": {},
   "outputs": [
    {
     "name": "stdout",
     "output_type": "stream",
     "text": [
      "O(n!): 1307674368000\n",
      "O(n^2 2^n): 7372800\n"
     ]
    }
   ],
   "source": [
    "n = n_cities\n",
    "print(f\"O(n!): {math.factorial(n)}\")\n",
    "print(f\"O(n^2 2^n): {n**2 * 2**n}\")"
   ]
  },
  {
   "cell_type": "markdown",
   "metadata": {},
   "source": [
    "- WOW 1307674368000 is a big number. What will happend if there are 100 cities"
   ]
  },
  {
   "cell_type": "code",
   "execution_count": 30,
   "metadata": {},
   "outputs": [
    {
     "name": "stdout",
     "output_type": "stream",
     "text": [
      "[ 4  8  2  5 10 13 14  1  0  9  7 12  6 11  3]\n",
      "[14  0  9  5  8  3 12 13 10 11  7  2  1  4  6]\n",
      "[ 4  8  2  5 10 13 14  1  0  9  7 12  6 11  3  4]\n"
     ]
    }
   ],
   "source": [
    "order0 = rng.permutation(n_cities)\n",
    "order1 = rng.permutation(n_cities)\n",
    "print(order0)\n",
    "print(order1)\n",
    "ind = np.hstack((order0, order0[0]))\n",
    "print(ind)"
   ]
  },
  {
   "cell_type": "code",
   "execution_count": 31,
   "metadata": {},
   "outputs": [
    {
     "data": {
      "text/plain": [
       "array([[11,  3,  5, 13,  1,  0,  6,  4, 12,  2,  7,  8,  9, 10, 14],\n",
       "       [ 5,  8, 12,  3,  2,  6,  9,  4, 14, 10,  1,  7, 11,  0, 13],\n",
       "       [13,  0,  1,  3, 14, 12, 11,  4,  7,  6, 10,  8,  9,  5,  2],\n",
       "       [12,  9, 13,  2,  0,  7,  3,  4,  6,  8, 14,  1, 11,  5, 10],\n",
       "       [12,  7,  1,  2,  3,  5, 14,  9,  4, 11, 13,  6, 10,  0,  8]])"
      ]
     },
     "execution_count": 31,
     "metadata": {},
     "output_type": "execute_result"
    }
   ],
   "source": [
    "n_population = 256 \n",
    "population = np.array([rng.permutation(n_cities) for i in range(n_population)])\n",
    "population[:5]"
   ]
  },
  {
   "cell_type": "code",
   "execution_count": 32,
   "metadata": {},
   "outputs": [
    {
     "data": {
      "text/plain": [
       "array([[0.        , 0.74692553, 0.60204662],\n",
       "       [0.74692553, 0.        , 0.21568431],\n",
       "       [0.60204662, 0.21568431, 0.        ]])"
      ]
     },
     "execution_count": 32,
     "metadata": {},
     "output_type": "execute_result"
    }
   ],
   "source": [
    "d = np.zeros((n_cities, n_cities))\n",
    "for i in range(n_cities):\n",
    "    for j in range(i):\n",
    "        d[i, j] = np.sqrt((cities[i, 0] - cities[j, 0])**2 + (cities[i,1] - cities[j, 1])**2)\n",
    "        d[j, i] = d[i, j]\n",
    "d[:3, :3]"
   ]
  },
  {
   "cell_type": "code",
   "execution_count": 33,
   "metadata": {},
   "outputs": [],
   "source": [
    "def total_distance(order, distances):\n",
    "    t = 0\n",
    "    for i in range(1, len(order)):\n",
    "        t += distances[order[i-1], order[i]]\n",
    "    t += distances[order[-1], order[0]]\n",
    "    return t"
   ]
  },
  {
   "cell_type": "code",
   "execution_count": 34,
   "metadata": {},
   "outputs": [
    {
     "name": "stdout",
     "output_type": "stream",
     "text": [
      "[ 4  8  2  5 10 13 14  1  0  9  7 12  6 11  3]\n",
      "[14  0  9  5  8  3 12 13 10 11  7  2  1  4  6]\n",
      "order 0: 7.4682474100547696\n",
      "order 1: 6.193421055243693\n"
     ]
    }
   ],
   "source": [
    "print(order0)\n",
    "print(order1)\n",
    "print(\"order 0:\", total_distance(order0, d))\n",
    "print(\"order 1:\", total_distance(order1, d))"
   ]
  },
  {
   "cell_type": "code",
   "execution_count": 35,
   "metadata": {},
   "outputs": [],
   "source": [
    "def evaluate(population, distances):\n",
    "    fitness = np.zeros(len(population))\n",
    "    for i in range(len(population)):\n",
    "        fitness[i] = total_distance(population[i], distances)\n",
    "    return fitness"
   ]
  },
  {
   "cell_type": "code",
   "execution_count": 36,
   "metadata": {},
   "outputs": [
    {
     "name": "stdout",
     "output_type": "stream",
     "text": [
      "[11  3  5 13  1  0  6  4 12  2  7  8  9 10 14] 7.42662541341204\n",
      "[ 5  8 12  3  2  6  9  4 14 10  1  7 11  0 13] 7.832231264829165\n",
      "[13  0  1  3 14 12 11  4  7  6 10  8  9  5  2] 6.291589168650369\n",
      "Minimum: \n",
      "[11  5 14  6 12  0 13  1 10  2  9  7  3  4  8] 5.178455480191191 7.957816038590059\n"
     ]
    }
   ],
   "source": [
    "fitness = evaluate(population, d)\n",
    "for i in range(3):\n",
    "    print(population[i], fitness[i])\n",
    "print(\"Minimum: \")\n",
    "print(population[np.argmin(fitness)], np.min(fitness), np.max(fitness))"
   ]
  },
  {
   "cell_type": "markdown",
   "metadata": {},
   "source": [
    "# TSP with GA POPOP "
   ]
  },
  {
   "cell_type": "code",
   "execution_count": 37,
   "metadata": {},
   "outputs": [],
   "source": [
    "#random seed dùng trong  np.random.seed(xxxxxx) là  6 chữ số cuối cùng trong mã số học viên cao học. \n",
    "np.random.seed(101024) # 220101024\n",
    "rng = np.random.default_rng()"
   ]
  },
  {
   "cell_type": "code",
   "execution_count": 38,
   "metadata": {},
   "outputs": [],
   "source": [
    "def plot_helper(label, color, fits, evals):\n",
    "    avg = np.mean(fits, axis=0)\n",
    "    err = np.std(fits, axis=0) \n",
    "    plt.plot(evals, avg, label=label, color=color)\n",
    "    plt.fill_between(evals, avg+err, avg-err, facecolor=color, alpha=0.1)"
   ]
  },
  {
   "cell_type": "code",
   "execution_count": 39,
   "metadata": {},
   "outputs": [],
   "source": [
    "def tsp(order):\n",
    "    return total_distance(order, d)\n"
   ]
  },
  {
   "cell_type": "code",
   "execution_count": 40,
   "metadata": {},
   "outputs": [],
   "source": [
    "n_cities = 15\n",
    "n_population = 4 * 10\n",
    "max_evaluations = 100\n",
    "n_trials = 10"
   ]
  },
  {
   "cell_type": "code",
   "execution_count": 41,
   "metadata": {},
   "outputs": [],
   "source": [
    "def initialize_population( n_cities, n_population):\n",
    "    population = np.array([rng.permutation(n_cities) for i in range(n_population)])\n",
    "    return population"
   ]
  },
  {
   "cell_type": "markdown",
   "metadata": {},
   "source": [
    "## Selection"
   ]
  },
  {
   "cell_type": "code",
   "execution_count": 42,
   "metadata": {},
   "outputs": [],
   "source": [
    "def tournament_selection(population, fitness, selection_size, t_size=4):\n",
    "    selected_indices = []\n",
    "\n",
    "    for _ in range(selection_size):\n",
    "        # Chọn ngẫu nhiên tournament_size cá thể vào bảng đấu\n",
    "        tournament_indices = np.random.choice(len(population), size=t_size, replace=False)\n",
    "\n",
    "        # Tìm cá thể có fitness tốt nhất trong bảng đấu\n",
    "        best_index = tournament_indices[np.argmin(fitness[tournament_indices])]\n",
    "\n",
    "        # Thêm chỉ mục của cá thể chiến thắng vào danh sách được chọn\n",
    "        selected_indices.append(best_index)\n",
    "    return selected_indices"
   ]
  },
  {
   "cell_type": "markdown",
   "metadata": {},
   "source": [
    "## Mutations"
   ]
  },
  {
   "cell_type": "code",
   "execution_count": 43,
   "metadata": {},
   "outputs": [
    {
     "name": "stdout",
     "output_type": "stream",
     "text": [
      "[11  2  6 13  4 12 14  7  3 10  0  1  9  5  8]\n"
     ]
    },
    {
     "data": {
      "text/plain": [
       "array([11,  6,  2, 13,  4, 12, 14,  7,  3, 10,  0,  1,  9,  5,  8])"
      ]
     },
     "execution_count": 43,
     "metadata": {},
     "output_type": "execute_result"
    }
   ],
   "source": [
    "from pymoo.operators.mutation import inversion\n",
    "\n",
    "def mutateInversion(ind):\n",
    "    return inversion.inversion_mutation(ind, None)\n",
    "    # return PolynomialMutation.\n",
    "test_order = rng.permutation(n_cities)\n",
    "print(test_order)\n",
    "test_order_mutated = mutateInversion(test_order)\n",
    "test_order_mutated"
   ]
  },
  {
   "cell_type": "code",
   "execution_count": 44,
   "metadata": {},
   "outputs": [
    {
     "name": "stdout",
     "output_type": "stream",
     "text": [
      "[11  5  8  3 12  0  6 14  2  4 10  1  9  7 13]\n"
     ]
    },
    {
     "data": {
      "text/plain": [
       "array([11,  5,  8,  3, 12,  0,  6,  2, 14,  4, 10,  1,  9,  7, 13])"
      ]
     },
     "execution_count": 44,
     "metadata": {},
     "output_type": "execute_result"
    }
   ],
   "source": [
    "def mutateUniform(ind):\n",
    "    rng = np.random.default_rng()\n",
    "    x = rng.choice(len(ind)-1)\n",
    "    child = np.copy(ind)\n",
    "    child[x] = ind[x+1]\n",
    "    child[x+1] = ind[x]\n",
    "    return child\n",
    "\n",
    "test_order = rng.permutation(n_cities)\n",
    "print(test_order)\n",
    "test_order_mutated = mutateUniform(test_order)\n",
    "test_order_mutated"
   ]
  },
  {
   "cell_type": "markdown",
   "metadata": {},
   "source": [
    "# Crossover"
   ]
  },
  {
   "cell_type": "code",
   "execution_count": 45,
   "metadata": {},
   "outputs": [
    {
     "name": "stdout",
     "output_type": "stream",
     "text": [
      "[ 4 10 12  0  6  7  5 13 11  2  9  1  3  8 14]\n",
      "[ 5  4  3  2  1  8 12 10 11 13  9  7  6 14  0]\n"
     ]
    },
    {
     "data": {
      "text/plain": [
       "array([[12, 10, 11, 13,  5,  0,  6,  7,  9,  2,  1,  3,  4, 14,  8],\n",
       "       [ 9,  7,  6, 14,  0, 12, 10, 11, 13,  5,  4,  3,  8,  1,  2]])"
      ]
     },
     "execution_count": 45,
     "metadata": {},
     "output_type": "execute_result"
    }
   ],
   "source": [
    "from pymoo.operators.crossover import erx\n",
    "def crossoverErx(pop):\n",
    "    num_individuals = len(pop)\n",
    "    offspring = []\n",
    "    for i in range(0, num_individuals, 2):\n",
    "        p1 = pop[i]\n",
    "        p2 = pop[i+1]\n",
    "         # Tạo cá thể con thứ nhất bằng cách kết hợp gen của cha và mẹ\n",
    "        offspring1 = erx.erx(p1, p2)\n",
    "        # Tạo cá thể con thứ hai bằng cách kết hợp gen của mẹ và cha\n",
    "        offspring2 = erx.erx(p1, p2)\n",
    "        offspring.append(offspring1)\n",
    "        offspring.append(offspring2)\n",
    "    offspring = np.array(offspring)\n",
    "    return offspring\n",
    "\n",
    "test_order_1 = rng.permutation(n_cities)\n",
    "test_order_2 = rng.permutation(n_cities)\n",
    "print(test_order_1)\n",
    "print(test_order_2)\n",
    "test_off_spring = crossoverErx([test_order_1, test_order_2])\n",
    "test_off_spring\n"
   ]
  },
  {
   "cell_type": "code",
   "execution_count": 46,
   "metadata": {},
   "outputs": [
    {
     "name": "stdout",
     "output_type": "stream",
     "text": [
      "[11  8  4  1 14  7  0  5 12 10  6  3  9  2 13]\n",
      "[ 4 12  9 11  2  1 14  8  5 13 10  7  0  3  6]\n"
     ]
    },
    {
     "data": {
      "text/plain": [
       "array([[11,  4,  1, 12,  6,  3, 14,  8,  5, 13, 10,  7,  0,  9,  2],\n",
       "       [ 4, 11,  2,  1, 14,  8,  0,  5, 12, 10,  6,  3,  9, 13,  7]])"
      ]
     },
     "execution_count": 46,
     "metadata": {},
     "output_type": "execute_result"
    }
   ],
   "source": [
    "from pymoo.operators.crossover import ox\n",
    "def crossoverOx(pop):\n",
    "    num_individuals = len(pop)\n",
    "    offspring = []\n",
    "    for i in range(0, num_individuals, 2):\n",
    "        p1 = pop[i]\n",
    "        p2 = pop[i+1]\n",
    "        start, end = np.sort(np.random.choice(n, 2, replace=False))\n",
    "        seq = tuple([start, end])\n",
    "         # Tạo cá thể con thứ nhất bằng cách kết hợp gen của cha và mẹ\n",
    "        offspring1 = ox.ox(p1, p2, seq)\n",
    "        # Tạo cá thể con thứ hai bằng cách kết hợp gen của mẹ và cha\n",
    "        offspring2 = ox.ox(p2, p1, seq)\n",
    "        offspring.append(offspring1)\n",
    "        offspring.append(offspring2)\n",
    "    offspring = np.array(offspring)\n",
    "    return offspring\n",
    "\n",
    "test_order_1 = rng.permutation(n_cities)\n",
    "test_order_2 = rng.permutation(n_cities)\n",
    "print(test_order_1)\n",
    "print(test_order_2)\n",
    "test_off_spring = crossoverOx([test_order_1, test_order_2])\n",
    "test_off_spring"
   ]
  },
  {
   "cell_type": "code",
   "execution_count": null,
   "metadata": {},
   "outputs": [],
   "source": []
  },
  {
   "cell_type": "code",
   "execution_count": 47,
   "metadata": {},
   "outputs": [],
   "source": [
    "def genetic_algorithm_POPOP(\n",
    "        objective,\n",
    "        transform_fn, \n",
    "        n_cities, \n",
    "        n_population,\n",
    "        max_evaluations, \n",
    "    verbose=False):\n",
    "    pop = initialize_population(n_cities, n_population)\n",
    "    pop_fitness = np.array([objective(ind) for ind in pop], dtype=float)\n",
    "    best_fitness = []\n",
    "    if verbose:\n",
    "        print(\"#Gen 0:\")\n",
    "        print(pop_fitness)\n",
    "\n",
    "    for i in range(max_evaluations):\n",
    "        \n",
    "        best_fitness.append([i, pop_fitness.min()])\n",
    "        # lai ghép để tạo cá thể con mới từ quần thể hiện tại \n",
    "        offspring = transform_fn(pop)\n",
    "        offspring_fitness = np.array([objective(ind) for ind in offspring])\n",
    "\n",
    "\n",
    "        # trộn cha mẹ và con cái (P+O)\n",
    "        pop = np.vstack([pop, offspring])\n",
    "        pop_fitness = np.concatenate((pop_fitness, offspring_fitness))\n",
    "\n",
    "        # chọn lọc giao đấu \n",
    "        selected_indices = tournament_selection(pop, pop_fitness, n_population)\n",
    "        pop = pop[selected_indices]\n",
    "        pop_fitness = pop_fitness[selected_indices]\n",
    "\n",
    "        if verbose:\n",
    "            print(f'#Gen {i+1}:')\n",
    "            # print(selected_indices)\n",
    "            # print(len(pop))\n",
    "            # print(len(pop_fitness))\n",
    "\n",
    "    best_fitness.append([i, pop_fitness[np.argmin(pop_fitness)]])\n",
    "    if verbose:\n",
    "        print('#Final result:')\n",
    "        print(best_fitness)\n",
    "        print(pop_fitness)\n",
    "\n",
    "    return (pop, pop_fitness, best_fitness)\n",
    "\n",
    "\n"
   ]
  },
  {
   "cell_type": "markdown",
   "metadata": {},
   "source": [
    "## tranforms"
   ]
  },
  {
   "cell_type": "code",
   "execution_count": 48,
   "metadata": {},
   "outputs": [],
   "source": [
    "def transform1(pop):\n",
    "    offspring = mutateInversion(pop)\n",
    "    return offspring\n",
    "\n",
    "def transform2(pop):\n",
    "    offspring = crossoverOx(pop)\n",
    "    return offspring\n",
    "\n",
    "def transform3(pop):\n",
    "    offspring = mutateUniform(pop)\n",
    "    return offspring\n",
    "\n",
    "def transform4(pop):\n",
    "    offspring = crossoverErx(pop)\n",
    "    return offspring\n",
    "\n",
    "def transform5(pop):\n",
    "    offspring = mutateInversion(pop)\n",
    "    offspring = crossoverOx(offspring)\n",
    "    return offspring\n",
    "\n",
    "def transform6(pop):\n",
    "    offspring = mutateInversion(pop)\n",
    "    offspring = crossoverErx(offspring)\n",
    "    return offspring "
   ]
  },
  {
   "cell_type": "code",
   "execution_count": 49,
   "metadata": {},
   "outputs": [],
   "source": [
    "def run(transform_fn):\n",
    "    fits = []\n",
    "    evals= []\n",
    "    for i in range(n_trials):\n",
    "        pop, pop_fitness, best_fitness = genetic_algorithm_POPOP(\n",
    "            tsp, \n",
    "            transform_fn, \n",
    "            n_cities, \n",
    "            n_population, \n",
    "            max_evaluations,\n",
    "        )\n",
    "        best_fitness = np.array(best_fitness)\n",
    "        if i == 0:\n",
    "            evals = best_fitness[:,0]\n",
    "        fits.append(best_fitness[:,1])\n",
    "\n",
    "    return fits, evals"
   ]
  },
  {
   "cell_type": "code",
   "execution_count": 50,
   "metadata": {},
   "outputs": [
    {
     "data": {
      "image/png": "[encoded data removed]",
      "text/plain": [
       "<Figure size 640x480 with 1 Axes>"
      ]
     },
     "metadata": {},
     "output_type": "display_data"
    }
   ],
   "source": [
    "\n",
    "fits_1, evals_1 = run(transform1)\n",
    "fits_2, evals_2 = run(transform2)\n",
    "fits_3, evals_3 = run(transform3)\n",
    "fits_4, evals_4 = run(transform4)\n",
    "fits_5, evals_5 = run(transform5)\n",
    "fits_6, evals_6 = run(transform6)\n",
    "\n",
    "\n",
    "plot_helper(\"transform1\", \"r\", fits_1, evals_1)\n",
    "plot_helper(\"transform2\", \"b\", fits_2, evals_2)\n",
    "plot_helper(\"transform3\", \"g\", fits_3, evals_3)\n",
    "plot_helper(\"transform4\", \"y\", fits_4, evals_4)\n",
    "plot_helper(\"transform5\", \"m\", fits_5, evals_5)\n",
    "plot_helper(\"transform6\", \"k\", fits_6, evals_6)\n",
    "\n",
    "plt.xlabel(\"Evaluations\")\n",
    "plt.ylabel(\"Fitness\")\n",
    "plt.xlim(0, max_evaluations)\n",
    "plt.title(f\"TSP on {n_cities} Dimensions\")\n",
    "plt.legend();\n"
   ]
  },
  {
   "cell_type": "markdown",
   "metadata": {},
   "source": [
    "## Questions:\n",
    "Ít nhất 2 phép lại ghép (crossover) cho TSP. Thông qua thực nghiệm thì phép lai ghép nào cho kết quả tốt hơn?  \n",
    "Ít nhất 2 phép đột biến (mutation) cho TSP. Thông qua thực nghiệm thì phép đột biến nào cho kết quả tốt hơn? Xác suất đột biến các bạn có thể tự tinh chỉnh sao cho hợp lý.  \n",
    "Thông qua thực nghiệm các bạn hãy cho biết nên thiết kế phép biến đổi thế nào? Lai ghép + đột biến, hay chỉ có lai ghép, hay chỉ có đột biến?  "
   ]
  },
  {
   "cell_type": "markdown",
   "metadata": {},
   "source": [
    "Dựa vào kết quả chạy thì chúng ta có thể trả lời:\n",
    "- crossoverErx tốt hơn crossoverOx\n",
    "- mutateInversion cho kết quả tốt hơn mutateUniform\n",
    "- Nên thiết kế lai ghép + đột biến để đạt kết quả tốt nhất (transform 66\n"
   ]
  },
  {
   "cell_type": "markdown",
   "metadata": {},
   "source": []
  }
 ],
 "metadata": {
  "kernelspec": {
   "display_name": "evolutionary_algorithm_exer_1",
   "language": "python",
   "name": "python3"
  },
  "language_info": {
   "codemirror_mode": {
    "name": "ipython",
    "version": 3
   },
   "file_extension": ".py",
   "mimetype": "text/x-python",
   "name": "python",
   "nbconvert_exporter": "python",
   "pygments_lexer": "ipython3",
   "version": "3.7.16"
  }
 },
 "nbformat": 4,
 "nbformat_minor": 2
}
