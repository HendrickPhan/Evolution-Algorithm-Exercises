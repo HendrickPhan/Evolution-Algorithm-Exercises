{
 "cells": [
  {
   "cell_type": "code",
   "execution_count": 55,
   "metadata": {},
   "outputs": [],
   "source": [
    "%matplotlib inline\n",
    "import matplotlib as mpl\n",
    "import matplotlib.pyplot as plt\n",
    "import numpy as np\n",
    "import math\n",
    "import seaborn as sns\n",
    "\n",
    "#random seed dùng trong  np.random.seed(xxxxxx) là  6 chữ số cuối cùng trong mã số học viên cao học.\n",
    "np.random.seed(101024)\n",
    "sns.set_theme(style='whitegrid')"
   ]
  },
  {
   "cell_type": "markdown",
   "metadata": {},
   "source": [
    "## Define problems"
   ]
  },
  {
   "cell_type": "code",
   "execution_count": 2,
   "metadata": {},
   "outputs": [],
   "source": [
    "def sphere_function(x):\n",
    "    return sum([(xi ** 2) for xi in x])\n",
    "\n",
    "def griewank_function(x):\n",
    "    sum_sq = sum([(xi ** 2) / 4000 for xi in x])\n",
    "    prod_cos = math.prod([math.cos(xi / math.sqrt(i + 1)) for i, xi in enumerate(x)])\n",
    "    return sum_sq - prod_cos + 1\n",
    "\n",
    "def rosenbrock_function(x):\n",
    "    sum_term = sum([100 * (x[i + 1] - x[i] ** 2) ** 2 + (x[i] - 1) ** 2 for i in range(len(x) - 1)])\n",
    "    return sum_term\n",
    "\n",
    "def michalewicz_function(x):\n",
    "    m = 10\n",
    "    return -sum([math.sin(xi) * (math.sin((i + 1) * xi ** 2 / math.pi) ** (2 * m)) for i, xi in enumerate(x)])"
   ]
  },
  {
   "cell_type": "markdown",
   "metadata": {},
   "source": [
    "## Differential Evolution"
   ]
  },
  {
   "cell_type": "code",
   "execution_count": 56,
   "metadata": {},
   "outputs": [
    {
     "name": "stdout",
     "output_type": "stream",
     "text": [
      "Best Solution (Sphere): [0.98671891 0.97306244 0.95559071 0.92260995 0.85803666]\n",
      "Best Fitness (Sphere): 0.030136747606289937\n"
     ]
    }
   ],
   "source": [
    "\n",
    "def differential_evolution(target_func, bounds, pop_size=50, max_iter=1000, F=0.5, CR=0.9):\n",
    "    # Initialize population within bounds\n",
    "    pop = np.random.uniform(bounds[0], bounds[1], size=(pop_size, len(bounds[0])))\n",
    "    \n",
    "    for i in range(max_iter):\n",
    "        for j in range(pop_size):\n",
    "            # Select three random individuals\n",
    "            candidates = np.random.choice(pop_size, 3, replace=False)\n",
    "            \n",
    "            # Mutation\n",
    "            mutant = pop[candidates[0]] + F * (pop[candidates[1]] - pop[candidates[2]])\n",
    "            \n",
    "            # Crossover\n",
    "            trial = np.copy(pop[j])\n",
    "            for k in range(len(bounds[0])):\n",
    "                if np.random.rand() > CR:\n",
    "                    trial[k] = mutant[k]\n",
    "                    \n",
    "            # Clip trial within bounds\n",
    "            trial = np.clip(trial, bounds[0], bounds[1])\n",
    "            \n",
    "            # Evaluate fitness\n",
    "            f_trial = target_func(trial)\n",
    "            f_target = target_func(pop[j])\n",
    "            \n",
    "            # Select based on fitness\n",
    "            if f_trial <= f_target:\n",
    "                pop[j] = trial\n",
    "    \n",
    "    # Return the best solution found\n",
    "    best_index = np.argmin([target_func(ind) for ind in pop])\n",
    "    return pop[best_index], target_func(pop[best_index]sphere_function)\n",
    "\n",
    "# Usage example for Sphere function\n",
    "bounds_sphere = ([-5.12] * 5, [5.12] * 5)  # Example bounds for Sphere function\n",
    "best_solution_sphere, best_fitness_sphere = differential_evolution(sphere_function, bounds_sphere)\n",
    "print(\"Best Solution (Sphere):\", best_solution_sphere)\n",
    "print(\"Best Fitness (Sphere):\", best_fitness_sphere)"
   ]
  },
  {
   "cell_type": "markdown",
   "metadata": {},
   "source": [
    "## Evolution strategy"
   ]
  },
  {
   "cell_type": "code",
   "execution_count": 4,
   "metadata": {},
   "outputs": [
    {
     "name": "stdout",
     "output_type": "stream",
     "text": [
      "Best Solution (Griewank): [ 310.50503628   97.50058109  249.33936693 -175.12093233  202.42942231\n",
      "  282.92385623  -74.24820968  123.2363285   261.6359895   -98.40514177]\n",
      "Best Fitness (Griewank): 105.39407944547709\n"
     ]
    }
   ],
   "source": [
    "\n",
    "def evolution_strategy(target_func, bounds, mu=50, lambda_=200, max_iter=1000, sigma=0.1):\n",
    "    # Initialize mean and covariance matrix\n",
    "    mean = np.random.uniform(bounds[0], bounds[1], size=len(bounds[0]))\n",
    "    cov = np.identity(len(bounds[0])) * sigma\n",
    "    \n",
    "    for i in range(max_iter):\n",
    "        # Generate offspring\n",
    "        offspring = np.random.multivariate_normal(mean, cov, lambda_)\n",
    "        \n",
    "        # Clip offspring within bounds\n",
    "        offspring = np.clip(offspring, bounds[0], bounds[1])\n",
    "        \n",
    "        # Evaluate fitness\n",
    "        fitness = [target_func(ind) for ind in offspring]\n",
    "        \n",
    "        # Sort by fitness\n",
    "        sorted_indices = np.argsort(fitness)\n",
    "        offspring = offspring[sorted_indices]\n",
    "        \n",
    "        # Update mean using mu best individuals\n",
    "        mean = np.mean(offspring[:mu], axis=0)\n",
    "    \n",
    "    # Return the best solution found\n",
    "    return mean, target_func(mean)\n",
    "\n",
    "# Usage example for Griewank function\n",
    "bounds_griewank = ([-600] * 10, [600] * 10)  # Example bounds for Griewank function\n",
    "best_solution_griewank, best_fitness_griewank = evolution_strategy(griewank_function, bounds_griewank)\n",
    "print(\"Best Solution (Griewank):\", best_solution_griewank)\n",
    "print(\"Best Fitness (Griewank):\", best_fitness_griewank)"
   ]
  },
  {
   "cell_type": "markdown",
   "metadata": {},
   "source": [
    "## Run"
   ]
  },
  {
   "cell_type": "code",
   "execution_count": null,
   "metadata": {},
   "outputs": [],
   "source": [
    "n_trials = 10\n",
    "my_id = 101024\n",
    "for i in range(n_trials):\n",
    "    np.random.seed(my_id + i)"
   ]
  }
 ],
 "metadata": {
  "kernelspec": {
   "display_name": "evolutionary_algorithm_exer_1",
   "language": "python",
   "name": "python3"
  },
  "language_info": {
   "codemirror_mode": {
    "name": "ipython",
    "version": 3
   },
   "file_extension": ".py",
   "mimetype": "text/x-python",
   "name": "python",
   "nbconvert_exporter": "python",
   "pygments_lexer": "ipython3",
   "version": "3.11.5"
  }
 },
 "nbformat": 4,
 "nbformat_minor": 2
}
