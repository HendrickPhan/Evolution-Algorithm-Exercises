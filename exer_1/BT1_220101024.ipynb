{
 "cells": [
  {
   "cell_type": "markdown",
   "metadata": {},
   "source": [
    "# Individuals\n",
    "- The base unit of an evolutionary algorithm (EA) is the individual.\n",
    "- An individual represents a single solution to the problem we want to solve.\n",
    "- Classic EAs often have binary individuals, where each gene is represented by a bit (0/1 value)."
   ]
  },
  {
   "cell_type": "code",
   "execution_count": 15,
   "metadata": {},
   "outputs": [],
   "source": [
    "import numpy as np"
   ]
  },
  {
   "cell_type": "code",
   "execution_count": 16,
   "metadata": {},
   "outputs": [],
   "source": [
    "class Individual:\n",
    "    def __init__(self, n: int):\n",
    "        self.genes = np.random.randint(0, 2, (n,))\n",
    "        self.fitness = -np.inf\n",
    "    def __str__(self):\n",
    "        return f'(Ind: {self.genes}, {self.fitness})'\n",
    "    def __repr__(self):\n",
    "        return str(self)\n"
   ]
  },
  {
   "cell_type": "markdown",
   "metadata": {},
   "source": [
    "- Individual has binary genes and an integer fitness.\n",
    "- A newly-initialized individual often has random genes."
   ]
  },
  {
   "cell_type": "code",
   "execution_count": 17,
   "metadata": {},
   "outputs": [
    {
     "data": {
      "text/plain": [
       "(Ind: [1 1 0 0 1 0 1 0 0 0], -inf)"
      ]
     },
     "execution_count": 17,
     "metadata": {},
     "output_type": "execute_result"
    }
   ],
   "source": [
    "ind = Individual(10)\n",
    "ind\n"
   ]
  },
  {
   "cell_type": "markdown",
   "metadata": {},
   "source": [
    "# Objectives\n",
    "- The objective function gives a value to our individual.\n",
    "- The objective function can be designed so that it can evaluate the individual.\n",
    "- The objective function value of an individual is often called the fitness value of that individual.\n",
    "- The objective function does not need to be differentiable or continuous."
   ]
  },
  {
   "cell_type": "code",
   "execution_count": 18,
   "metadata": {},
   "outputs": [],
   "source": [
    "def onemax(i: Individual):\n",
    "    return np.sum(i.genes)\n"
   ]
  },
  {
   "cell_type": "markdown",
   "metadata": {},
   "source": [
    "The OneMax function simply adds all the bits of the genotype of the individual."
   ]
  },
  {
   "cell_type": "code",
   "execution_count": 19,
   "metadata": {},
   "outputs": [
    {
     "data": {
      "text/plain": [
       "(Ind: [1 1 0 0 1 0 1 0 0 0], 4)"
      ]
     },
     "execution_count": 19,
     "metadata": {},
     "output_type": "execute_result"
    }
   ],
   "source": [
    "ind.fitness = onemax(ind)\n",
    "ind"
   ]
  },
  {
   "cell_type": "markdown",
   "metadata": {},
   "source": [
    "The optimal solution for OneMax is the individual that has the genotype of all 1s.\n"
   ]
  },
  {
   "cell_type": "markdown",
   "metadata": {},
   "source": [
    "To be more general, we often define an evaluate function, which evaluate the fitness value of an individual.\n",
    "\n"
   ]
  },
  {
   "cell_type": "code",
   "execution_count": 20,
   "metadata": {},
   "outputs": [
    {
     "data": {
      "text/plain": [
       "(Ind: [1 1 0 0 1 0 1 0 0 0], 4)"
      ]
     },
     "execution_count": 20,
     "metadata": {},
     "output_type": "execute_result"
    }
   ],
   "source": [
    "def evaluate(ind: Individual, objective):\n",
    "    ind.fitness = objective(ind)\n",
    "\n",
    "evaluate(ind, onemax)\n",
    "ind\n"
   ]
  },
  {
   "cell_type": "markdown",
   "metadata": {},
   "source": [
    "- Each time we evaluate the fitness value of an individual, we spend one evaluation function call.\n",
    "- To be abstract from the exact runtime on specific hardware, we often use the number of evaluations as the computing cost/budget for EAs.\n"
   ]
  },
  {
   "cell_type": "markdown",
   "metadata": {},
   "source": [
    "# (1+1) Evolutionary Algorithm ~~~ (1+1)-EA"
   ]
  },
  {
   "cell_type": "code",
   "execution_count": 21,
   "metadata": {},
   "outputs": [],
   "source": [
    "n = 20"
   ]
  },
  {
   "cell_type": "code",
   "execution_count": 22,
   "metadata": {},
   "outputs": [
    {
     "data": {
      "text/plain": [
       "(Ind: [0 1 0 1 1 1 0 1 0 1 1 1 0 0 1 0 1 1 1 0], 12)"
      ]
     },
     "execution_count": 22,
     "metadata": {},
     "output_type": "execute_result"
    }
   ],
   "source": [
    "parent = Individual(n)\n",
    "evaluate(parent, onemax)\n",
    "parent\n"
   ]
  },
  {
   "cell_type": "code",
   "execution_count": 23,
   "metadata": {},
   "outputs": [],
   "source": [
    "def mutate(ind: Individual, mutation_rate=1.0/len(ind.genes)):\n",
    "    new_genes = np.copy(ind.genes)\n",
    "    for i in range(len(new_genes)):\n",
    "        if np.random.rand() < mutation_rate:\n",
    "            new_genes[i] = not ind.genes[i]\n",
    "    child = Individual(len(ind.genes))\n",
    "    child.genes = new_genes\n",
    "    return child\n"
   ]
  },
  {
   "cell_type": "markdown",
   "metadata": {},
   "source": [
    "- The mutate function create a child/offspring individual from a parent individual with the mutation probability of p = 1/n \n",
    "- We scan through each gene in an individual.\n",
    "- For each gene, we generate a random number r∈(0,1).\n",
    "- If r<p, we flip the gene value 0↔1.\n"
   ]
  },
  {
   "cell_type": "code",
   "execution_count": 24,
   "metadata": {},
   "outputs": [
    {
     "name": "stdout",
     "output_type": "stream",
     "text": [
      "Parent : (Ind: [0 1 0 1 1 1 0 1 0 1 1 1 0 0 1 0 1 1 1 0], 12)\n",
      "Child  : (Ind: [0 1 0 1 1 1 0 1 0 1 1 0 0 1 1 0 1 1 1 0], -inf)\n",
      "Genes : [ True  True  True  True  True  True  True  True  True  True  True False\n",
      "  True False  True  True  True  True  True  True]\n"
     ]
    }
   ],
   "source": [
    "child = mutate(parent)\n",
    "print(\"Parent :\", parent)\n",
    "print(\"Child  :\", child)\n",
    "print(\"Genes :\", parent.genes == child.genes)\n"
   ]
  },
  {
   "cell_type": "markdown",
   "metadata": {},
   "source": [
    "- Running this mutation function a few times.\n",
    "- Each time, only one or two genes change because the mutation rate is set to p = 1/n  "
   ]
  },
  {
   "cell_type": "code",
   "execution_count": 25,
   "metadata": {},
   "outputs": [
    {
     "name": "stdout",
     "output_type": "stream",
     "text": [
      "Parent : (Ind: [0 1 0 1 1 1 0 1 0 1 1 1 0 0 1 0 1 1 1 0], 12)\n",
      "Child  : (Ind: [0 1 0 1 1 1 0 1 0 1 1 1 0 0 1 1 1 1 1 0], -inf)\n",
      "Genes : [ True  True  True  True  True  True  True  True  True  True  True  True\n",
      "  True  True  True False  True  True  True  True]\n"
     ]
    }
   ],
   "source": [
    "child = mutate(parent)\n",
    "print(\"Parent :\", parent)\n",
    "print(\"Child  :\", child)\n",
    "print(\"Genes :\", parent.genes == child.genes)\n"
   ]
  },
  {
   "cell_type": "code",
   "execution_count": 26,
   "metadata": {},
   "outputs": [
    {
     "name": "stdout",
     "output_type": "stream",
     "text": [
      "Parent : (Ind: [0 1 0 1 1 1 0 1 0 1 1 1 0 0 1 0 1 1 1 0], 12)\n",
      "Child  : (Ind: [0 1 0 1 1 1 0 1 1 1 1 1 0 0 1 0 1 1 1 0], -inf)\n",
      "Genes : [ True  True  True  True  True  True  True  True False  True  True  True\n",
      "  True  True  True  True  True  True  True  True]\n"
     ]
    }
   ],
   "source": [
    "child = mutate(parent)\n",
    "print(\"Parent :\", parent)\n",
    "print(\"Child  :\", child)\n",
    "print(\"Genes :\", parent.genes == child.genes)\n"
   ]
  },
  {
   "cell_type": "markdown",
   "metadata": {},
   "source": [
    "Each time, we replace the parent individual x by the child individual x′ if the fitness of the offspring is better, i.e., f(x′)≥f(x).\n"
   ]
  },
  {
   "cell_type": "code",
   "execution_count": 27,
   "metadata": {},
   "outputs": [
    {
     "name": "stdout",
     "output_type": "stream",
     "text": [
      "12\n",
      "13\n"
     ]
    },
    {
     "data": {
      "text/plain": [
       "13"
      ]
     },
     "execution_count": 27,
     "metadata": {},
     "output_type": "execute_result"
    }
   ],
   "source": [
    "evaluate(child, onemax)\n",
    "print(parent.fitness)\n",
    "print(child.fitness)\n",
    "if child.fitness >= parent.fitness:\n",
    "    parent = child\n",
    "parent.fitness\n"
   ]
  },
  {
   "cell_type": "markdown",
   "metadata": {},
   "source": [
    "- We simply run this mutation step over and over until we reach the solution we want or the certain termination criterion is met (e.g., the maximum number of evaluations are all spent).\n",
    "- Let's just run for a few iterations.\n"
   ]
  },
  {
   "cell_type": "code",
   "execution_count": 34,
   "metadata": {},
   "outputs": [
    {
     "name": "stdout",
     "output_type": "stream",
     "text": [
      "15  /  20\n"
     ]
    }
   ],
   "source": [
    "parent = Individual(n)\n",
    "for i in range(20):\n",
    "    child = mutate(parent)\n",
    "    evaluate(child, onemax)\n",
    "    if child.fitness >= parent.fitness:\n",
    "        parent = child\n",
    "    # print(i, \" \", parent.fitness)\n",
    "\n",
    "\n",
    "print(parent.fitness, \" / \", n)"
   ]
  },
  {
   "cell_type": "markdown",
   "metadata": {},
   "source": [
    "- Let's code the (1+1)-EA.\n"
   ]
  },
  {
   "cell_type": "code",
   "execution_count": 45,
   "metadata": {},
   "outputs": [],
   "source": [
    "from tqdm import tqdm\n",
    "\n",
    "def one_plus_one(ind_length: int, num_generations: int, objective):\n",
    "    fits = np.zeros(num_generations)\n",
    "    parent = Individual(ind_length)\n",
    "    evaluate(parent, objective)\n",
    "    \n",
    "    for i in tqdm(range(len(fits))):\n",
    "        child = mutate(parent)\n",
    "        evaluate(child, objective)\n",
    "\n",
    "        if child.fitness >= parent.fitness:\n",
    "            parent = child\n",
    "            \n",
    "        fits[i] = parent.fitness\n",
    "    return fits"
   ]
  },
  {
   "cell_type": "markdown",
   "metadata": {},
   "source": [
    "- Since EAs are stochastic algorithm, it's difficult to guarantee their exact computational complexity.\n",
    "- A common metric is the expected number of generations to each the optimal solution.\n",
    "- The worst-case for a binary (1+1)-EA to converge is O(n^n), but we often don't need to run that long to see convergence.\n",
    "- For OneMax, the expected runtime for (1+1)-EA has been proven to be O(nlogn) when the mutation rate is p = 1/n\n",
    " "
   ]
  },
  {
   "cell_type": "code",
   "execution_count": 46,
   "metadata": {},
   "outputs": [
    {
     "ename": "TypeError",
     "evalue": "'module' object is not callable",
     "output_type": "error",
     "traceback": [
      "\u001b[0;31m---------------------------------------------------------------------------\u001b[0m",
      "\u001b[0;31mTypeError\u001b[0m                                 Traceback (most recent call last)",
      "\u001b[1;32m/Users/hieuphandinhminh/Desktop/Repo/projects/evolutionary_algorithm/exer_1/BT1_220101024.ipynb Cell 30\u001b[0m line \u001b[0;36m2\n\u001b[1;32m      <a href='vscode-notebook-cell:/Users/hieuphandinhminh/Desktop/Repo/projects/evolutionary_algorithm/exer_1/BT1_220101024.ipynb#X41sZmlsZQ%3D%3D?line=0'>1</a>\u001b[0m n \u001b[39m=\u001b[39m \u001b[39m50\u001b[39m\n\u001b[0;32m----> <a href='vscode-notebook-cell:/Users/hieuphandinhminh/Desktop/Repo/projects/evolutionary_algorithm/exer_1/BT1_220101024.ipynb#X41sZmlsZQ%3D%3D?line=1'>2</a>\u001b[0m fits \u001b[39m=\u001b[39m one_plus_one(n, \u001b[39mint\u001b[39;49m(np\u001b[39m.\u001b[39;49mround(n \u001b[39m*\u001b[39;49m np\u001b[39m.\u001b[39;49mlog(n))), onemax)\n\u001b[1;32m      <a href='vscode-notebook-cell:/Users/hieuphandinhminh/Desktop/Repo/projects/evolutionary_algorithm/exer_1/BT1_220101024.ipynb#X41sZmlsZQ%3D%3D?line=2'>3</a>\u001b[0m \u001b[39mprint\u001b[39m(fits[\u001b[39m-\u001b[39m\u001b[39m1\u001b[39m])\n",
      "\u001b[1;32m/Users/hieuphandinhminh/Desktop/Repo/projects/evolutionary_algorithm/exer_1/BT1_220101024.ipynb Cell 30\u001b[0m line \u001b[0;36m9\n\u001b[1;32m      <a href='vscode-notebook-cell:/Users/hieuphandinhminh/Desktop/Repo/projects/evolutionary_algorithm/exer_1/BT1_220101024.ipynb#X41sZmlsZQ%3D%3D?line=5'>6</a>\u001b[0m parent \u001b[39m=\u001b[39m Individual(ind_length)\n\u001b[1;32m      <a href='vscode-notebook-cell:/Users/hieuphandinhminh/Desktop/Repo/projects/evolutionary_algorithm/exer_1/BT1_220101024.ipynb#X41sZmlsZQ%3D%3D?line=6'>7</a>\u001b[0m evaluate(parent, objective)\n\u001b[0;32m----> <a href='vscode-notebook-cell:/Users/hieuphandinhminh/Desktop/Repo/projects/evolutionary_algorithm/exer_1/BT1_220101024.ipynb#X41sZmlsZQ%3D%3D?line=8'>9</a>\u001b[0m \u001b[39mfor\u001b[39;00m i \u001b[39min\u001b[39;00m tqdm(\u001b[39mrange\u001b[39;49m(\u001b[39mlen\u001b[39;49m(fits))):\n\u001b[1;32m     <a href='vscode-notebook-cell:/Users/hieuphandinhminh/Desktop/Repo/projects/evolutionary_algorithm/exer_1/BT1_220101024.ipynb#X41sZmlsZQ%3D%3D?line=9'>10</a>\u001b[0m     child \u001b[39m=\u001b[39m mutate(parent)\n\u001b[1;32m     <a href='vscode-notebook-cell:/Users/hieuphandinhminh/Desktop/Repo/projects/evolutionary_algorithm/exer_1/BT1_220101024.ipynb#X41sZmlsZQ%3D%3D?line=10'>11</a>\u001b[0m     evaluate(child, objective)\n",
      "\u001b[0;31mTypeError\u001b[0m: 'module' object is not callable"
     ]
    }
   ],
   "source": [
    "n = 50\n",
    "fits = one_plus_one(n, int(np.round(n * np.log(n))), onemax)\n",
    "print(fits[-1])\n"
   ]
  },
  {
   "cell_type": "code",
   "execution_count": null,
   "metadata": {},
   "outputs": [],
   "source": []
  }
 ],
 "metadata": {
  "kernelspec": {
   "display_name": "env",
   "language": "python",
   "name": "python3"
  },
  "language_info": {
   "codemirror_mode": {
    "name": "ipython",
    "version": 3
   },
   "file_extension": ".py",
   "mimetype": "text/x-python",
   "name": "python",
   "nbconvert_exporter": "python",
   "pygments_lexer": "ipython3",
   "version": "3.8.6"
  },
  "orig_nbformat": 4
 },
 "nbformat": 4,
 "nbformat_minor": 2
}
