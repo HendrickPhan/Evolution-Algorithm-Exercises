{
 "cells": [
  {
   "cell_type": "markdown",
   "metadata": {},
   "source": [
    "# Individuals\n",
    "- The base unit of an evolutionary algorithm (EA) is the individual.\n",
    "- An individual represents a single solution to the problem we want to solve.\n",
    "- Classic EAs often have binary individuals, where each gene is represented by a bit (0/1 value)."
   ]
  },
  {
   "cell_type": "code",
   "execution_count": 1,
   "metadata": {},
   "outputs": [],
   "source": [
    "import numpy as np"
   ]
  },
  {
   "cell_type": "code",
   "execution_count": 2,
   "metadata": {},
   "outputs": [],
   "source": [
    "class Individual:\n",
    "    def __init__(self, n: int):\n",
    "        self.genes = np.random.randint(0, 2, (n,))\n",
    "        self.fitness = -np.inf\n",
    "    def __str__(self):\n",
    "        return f'(Ind: {self.genes}, {self.fitness})'\n",
    "    def __repr__(self):\n",
    "        return str(self)\n"
   ]
  },
  {
   "cell_type": "markdown",
   "metadata": {},
   "source": [
    "- Individual has binary genes and an integer fitness.\n",
    "- A newly-initialized individual often has random genes."
   ]
  },
  {
   "cell_type": "code",
   "execution_count": 3,
   "metadata": {},
   "outputs": [
    {
     "data": {
      "text/plain": [
       "(Ind: [1 1 1 1 1 0 0 1 0 0], -inf)"
      ]
     },
     "execution_count": 3,
     "metadata": {},
     "output_type": "execute_result"
    }
   ],
   "source": [
    "ind = Individual(10)\n",
    "ind\n"
   ]
  },
  {
   "cell_type": "markdown",
   "metadata": {},
   "source": [
    "# Objectives\n",
    "- The objective function gives a value to our individual.\n",
    "- The objective function can be designed so that it can evaluate the individual.\n",
    "- The objective function value of an individual is often called the fitness value of that individual.\n",
    "- The objective function does not need to be differentiable or continuous."
   ]
  },
  {
   "cell_type": "code",
   "execution_count": 4,
   "metadata": {},
   "outputs": [],
   "source": [
    "def onemax(i: Individual):\n",
    "    return np.sum(i.genes)\n"
   ]
  },
  {
   "cell_type": "markdown",
   "metadata": {},
   "source": [
    "The OneMax function simply adds all the bits of the genotype of the individual."
   ]
  },
  {
   "cell_type": "code",
   "execution_count": 5,
   "metadata": {},
   "outputs": [
    {
     "data": {
      "text/plain": [
       "(Ind: [1 1 1 1 1 0 0 1 0 0], 6)"
      ]
     },
     "execution_count": 5,
     "metadata": {},
     "output_type": "execute_result"
    }
   ],
   "source": [
    "ind.fitness = onemax(ind)\n",
    "ind"
   ]
  },
  {
   "cell_type": "markdown",
   "metadata": {},
   "source": [
    "The optimal solution for OneMax is the individual that has the genotype of all 1s.\n"
   ]
  },
  {
   "cell_type": "markdown",
   "metadata": {},
   "source": [
    "To be more general, we often define an evaluate function, which evaluate the fitness value of an individual.\n",
    "\n"
   ]
  },
  {
   "cell_type": "code",
   "execution_count": 6,
   "metadata": {},
   "outputs": [
    {
     "data": {
      "text/plain": [
       "(Ind: [1 1 1 1 1 0 0 1 0 0], 6)"
      ]
     },
     "execution_count": 6,
     "metadata": {},
     "output_type": "execute_result"
    }
   ],
   "source": [
    "def evaluate(ind: Individual, objective):\n",
    "    ind.fitness = objective(ind)\n",
    "\n",
    "evaluate(ind, onemax)\n",
    "ind\n"
   ]
  },
  {
   "cell_type": "markdown",
   "metadata": {},
   "source": [
    "- Each time we evaluate the fitness value of an individual, we spend one evaluation function call.\n",
    "- To be abstract from the exact runtime on specific hardware, we often use the number of evaluations as the computing cost/budget for EAs.\n"
   ]
  },
  {
   "cell_type": "markdown",
   "metadata": {},
   "source": [
    "# (1+1) Evolutionary Algorithm ~~~ (1+1)-EA"
   ]
  },
  {
   "cell_type": "code",
   "execution_count": 7,
   "metadata": {},
   "outputs": [],
   "source": [
    "n = 20"
   ]
  },
  {
   "cell_type": "code",
   "execution_count": 8,
   "metadata": {},
   "outputs": [
    {
     "data": {
      "text/plain": [
       "(Ind: [0 1 0 0 0 0 1 0 1 1 1 1 0 0 0 1 1 0 1 1], 10)"
      ]
     },
     "execution_count": 8,
     "metadata": {},
     "output_type": "execute_result"
    }
   ],
   "source": [
    "parent = Individual(n)\n",
    "evaluate(parent, onemax)\n",
    "parent\n"
   ]
  },
  {
   "cell_type": "code",
   "execution_count": 9,
   "metadata": {},
   "outputs": [],
   "source": [
    "def mutate(ind: Individual, mutation_rate=1.0/len(ind.genes)):\n",
    "    new_genes = np.copy(ind.genes)\n",
    "    for i in range(len(new_genes)):\n",
    "        if np.random.rand() < mutation_rate:\n",
    "            new_genes[i] = not ind.genes[i]\n",
    "    child = Individual(len(ind.genes))\n",
    "    child.genes = new_genes\n",
    "    return child\n"
   ]
  },
  {
   "cell_type": "markdown",
   "metadata": {},
   "source": [
    "- The mutate function create a child/offspring individual from a parent individual with the mutation probability of p = 1/n \n",
    "- We scan through each gene in an individual.\n",
    "- For each gene, we generate a random number r∈(0,1).\n",
    "- If r<p, we flip the gene value 0↔1.\n"
   ]
  },
  {
   "cell_type": "code",
   "execution_count": 10,
   "metadata": {},
   "outputs": [
    {
     "name": "stdout",
     "output_type": "stream",
     "text": [
      "Parent : (Ind: [0 1 0 0 0 0 1 0 1 1 1 1 0 0 0 1 1 0 1 1], 10)\n",
      "Child  : (Ind: [0 1 0 0 0 1 1 0 1 1 1 1 0 0 1 1 1 0 1 1], -inf)\n",
      "Genes : [ True  True  True  True  True False  True  True  True  True  True  True\n",
      "  True  True False  True  True  True  True  True]\n"
     ]
    }
   ],
   "source": [
    "child = mutate(parent)\n",
    "print(\"Parent :\", parent)\n",
    "print(\"Child  :\", child)\n",
    "print(\"Genes :\", parent.genes == child.genes)\n"
   ]
  },
  {
   "cell_type": "markdown",
   "metadata": {},
   "source": [
    "- Running this mutation function a few times.\n",
    "- Each time, only one or two genes change because the mutation rate is set to p = 1/n  "
   ]
  },
  {
   "cell_type": "code",
   "execution_count": 11,
   "metadata": {},
   "outputs": [
    {
     "name": "stdout",
     "output_type": "stream",
     "text": [
      "Parent : (Ind: [0 1 0 0 0 0 1 0 1 1 1 1 0 0 0 1 1 0 1 1], 10)\n",
      "Child  : (Ind: [0 1 0 0 0 0 0 0 1 1 1 0 0 0 1 1 1 0 1 0], -inf)\n",
      "Genes : [ True  True  True  True  True  True False  True  True  True  True False\n",
      "  True  True False  True  True  True  True False]\n"
     ]
    }
   ],
   "source": [
    "child = mutate(parent)\n",
    "print(\"Parent :\", parent)\n",
    "print(\"Child  :\", child)\n",
    "print(\"Genes :\", parent.genes == child.genes)\n"
   ]
  },
  {
   "cell_type": "code",
   "execution_count": 12,
   "metadata": {},
   "outputs": [
    {
     "name": "stdout",
     "output_type": "stream",
     "text": [
      "Parent : (Ind: [0 1 0 0 0 0 1 0 1 1 1 1 0 0 0 1 1 0 1 1], 10)\n",
      "Child  : (Ind: [0 0 0 0 0 0 1 0 1 0 1 1 0 0 0 1 0 0 1 1], -inf)\n",
      "Genes : [ True False  True  True  True  True  True  True  True False  True  True\n",
      "  True  True  True  True False  True  True  True]\n"
     ]
    }
   ],
   "source": [
    "child = mutate(parent)\n",
    "print(\"Parent :\", parent)\n",
    "print(\"Child  :\", child)\n",
    "print(\"Genes :\", parent.genes == child.genes)\n"
   ]
  },
  {
   "cell_type": "markdown",
   "metadata": {},
   "source": [
    "Each time, we replace the parent individual x by the child individual x′ if the fitness of the offspring is better, i.e., f(x′)≥f(x).\n"
   ]
  },
  {
   "cell_type": "code",
   "execution_count": 13,
   "metadata": {},
   "outputs": [
    {
     "name": "stdout",
     "output_type": "stream",
     "text": [
      "10\n",
      "7\n"
     ]
    },
    {
     "data": {
      "text/plain": [
       "10"
      ]
     },
     "execution_count": 13,
     "metadata": {},
     "output_type": "execute_result"
    }
   ],
   "source": [
    "evaluate(child, onemax)\n",
    "print(parent.fitness)\n",
    "print(child.fitness)\n",
    "if child.fitness >= parent.fitness:\n",
    "    parent = child\n",
    "parent.fitness\n"
   ]
  },
  {
   "cell_type": "markdown",
   "metadata": {},
   "source": [
    "- We simply run this mutation step over and over until we reach the solution we want or the certain termination criterion is met (e.g., the maximum number of evaluations are all spent).\n",
    "- Let's just run for a few iterations.\n"
   ]
  },
  {
   "cell_type": "code",
   "execution_count": 14,
   "metadata": {},
   "outputs": [
    {
     "name": "stdout",
     "output_type": "stream",
     "text": [
      "17  /  20\n"
     ]
    }
   ],
   "source": [
    "parent = Individual(n)\n",
    "for i in range(20):\n",
    "    child = mutate(parent)\n",
    "    evaluate(child, onemax)\n",
    "    if child.fitness >= parent.fitness:\n",
    "        parent = child\n",
    "    # print(i, \" \", parent.fitness)\n",
    "\n",
    "\n",
    "print(parent.fitness, \" / \", n)"
   ]
  },
  {
   "cell_type": "markdown",
   "metadata": {},
   "source": [
    "- Let's code the (1+1)-EA.\n"
   ]
  },
  {
   "cell_type": "code",
   "execution_count": 15,
   "metadata": {},
   "outputs": [],
   "source": [
    "from tqdm import tqdm\n",
    "\n",
    "def one_plus_one(ind_length: int, num_generations: int, objective):\n",
    "    fits = np.zeros(num_generations)\n",
    "    parent = Individual(ind_length)\n",
    "    evaluate(parent, objective)\n",
    "    \n",
    "    for i in tqdm(range(len(fits))):\n",
    "        child = mutate(parent)\n",
    "        evaluate(child, objective)\n",
    "\n",
    "        if child.fitness >= parent.fitness:\n",
    "            parent = child\n",
    "            \n",
    "        fits[i] = parent.fitness\n",
    "    return fits"
   ]
  },
  {
   "cell_type": "markdown",
   "metadata": {},
   "source": [
    "- Since EAs are stochastic algorithm, it's difficult to guarantee their exact computational complexity.\n",
    "- A common metric is the expected number of generations to each the optimal solution.\n",
    "- The worst-case for a binary (1+1)-EA to converge is O(n^n), but we often don't need to run that long to see convergence.\n",
    "- For OneMax, the expected runtime for (1+1)-EA has been proven to be O(nlogn) when the mutation rate is p = 1/n\n",
    " "
   ]
  },
  {
   "cell_type": "code",
   "execution_count": 16,
   "metadata": {},
   "outputs": [
    {
     "name": "stderr",
     "output_type": "stream",
     "text": [
      "100%|██████████| 196/196 [00:00<00:00, 35335.64it/s]"
     ]
    },
    {
     "name": "stdout",
     "output_type": "stream",
     "text": [
      "45.0\n"
     ]
    },
    {
     "name": "stderr",
     "output_type": "stream",
     "text": [
      "\n"
     ]
    }
   ],
   "source": [
    "n = 50\n",
    "fits = one_plus_one(n, int(np.round(n * np.log(n))), onemax)\n",
    "print(fits[-1])\n"
   ]
  },
  {
   "cell_type": "code",
   "execution_count": 17,
   "metadata": {},
   "outputs": [
    {
     "data": {
      "image/png": "[encoded data removed]",
      "text/plain": [
       "<Figure size 432x288 with 1 Axes>"
      ]
     },
     "metadata": {
      "needs_background": "light"
     },
     "output_type": "display_data"
    }
   ],
   "source": [
    "import matplotlib.pyplot as plt\n",
    "plt.plot(fits, 'b')\n",
    "plt.xlabel(\"Generations\")\n",
    "plt.ylabel(\"Fitness\")\n",
    "plt.title(f\"One-Max on {n} Dimensions\");"
   ]
  },
  {
   "cell_type": "code",
   "execution_count": 18,
   "metadata": {},
   "outputs": [
    {
     "name": "stderr",
     "output_type": "stream",
     "text": [
      "100%|██████████| 1960/1960 [00:00<00:00, 36607.99it/s]"
     ]
    },
    {
     "name": "stdout",
     "output_type": "stream",
     "text": [
      "50.0\n"
     ]
    },
    {
     "name": "stderr",
     "output_type": "stream",
     "text": [
      "\n"
     ]
    }
   ],
   "source": [
    "n = 50\n",
    "fits = one_plus_one(n, int(np.round(n * np.log(n)))*10, onemax)\n",
    "print(fits[-1])"
   ]
  },
  {
   "cell_type": "code",
   "execution_count": 19,
   "metadata": {},
   "outputs": [
    {
     "data": {
      "image/png": "[encoded data removed]",
      "text/plain": [
       "<Figure size 432x288 with 1 Axes>"
      ]
     },
     "metadata": {
      "needs_background": "light"
     },
     "output_type": "display_data"
    }
   ],
   "source": [
    "plt.plot(fits, 'b')\n",
    "plt.xlabel(\"Generations\")\n",
    "plt.ylabel(\"Fitness\")\n",
    "plt.title(f\"One-Max on {n} Dimensions\");"
   ]
  },
  {
   "cell_type": "markdown",
   "metadata": {},
   "source": [
    "The Leading Ones problem is another benchmark function for EAs.\n",
    "The Leading Ones function counts the number of 1-bits from left to right, stopping when the first 0-bit is found."
   ]
  },
  {
   "cell_type": "code",
   "execution_count": 20,
   "metadata": {},
   "outputs": [
    {
     "name": "stdout",
     "output_type": "stream",
     "text": [
      "(Ind: [1 1 1 1 1 0 0 1 0 0], 6)\n"
     ]
    },
    {
     "data": {
      "text/plain": [
       "5"
      ]
     },
     "execution_count": 20,
     "metadata": {},
     "output_type": "execute_result"
    }
   ],
   "source": [
    "def leading_ones(ind: Individual):\n",
    "    f = 0\n",
    "    for i in range(len(ind.genes)):\n",
    "        if not ind.genes[i]:\n",
    "            f = i\n",
    "            break\n",
    "    return f\n",
    "print(ind)\n",
    "leading_ones(ind)"
   ]
  },
  {
   "cell_type": "markdown",
   "metadata": {},
   "source": [
    "Question: What is the expected runtime of (1+1)-EA on the Leading Ones problem?"
   ]
  },
  {
   "cell_type": "markdown",
   "metadata": {},
   "source": [
    "# (1+λ) Evolutionary Algorithm - (1+λ)-EA\n",
    "- We made a small change to the (1+1)-EA: instead of generating one offspring individual each iteration (generation), we generate λ offspring individuals.\n",
    "- These λ individuals can be called a population, and λ is the population size."
   ]
  },
  {
   "cell_type": "markdown",
   "metadata": {},
   "source": [
    "- For (1+λ)-EA, beside the mutation rate, the population size is another control parameter of the algorithm (i.e., hyperparameter).\n",
    "- The expected runtime for (1+λ)-EA on OneMax is upper bounded by \n",
    "O(n\n",
    "log\n",
    "log\n",
    "λ\n",
    "/\n",
    "log\n",
    "λ\n",
    ")\n",
    " when λ is larger than \n",
    "O\n",
    "(\n",
    "log\n",
    "n\n",
    "log\n",
    "log\n",
    "n\n",
    "/\n",
    "log\n",
    "log\n",
    "log\n",
    "n\n",
    ")\n",
    "."
   ]
  },
  {
   "cell_type": "markdown",
   "metadata": {},
   "source": [
    "- We modify one_plus_one function to create the one_plus_lambda function.\n",
    "- We keep track of the best offspring individual to compare it with the parent individual in the next generation."
   ]
  },
  {
   "cell_type": "code",
   "execution_count": 21,
   "metadata": {},
   "outputs": [],
   "source": [
    "def one_plus_lambda(ind_length: int, num_generations: int, objective, 𝜆: int):\n",
    "    fits = np.zeros(num_generations)\n",
    "    parent = Individual(ind_length)\n",
    "    evaluate(parent, objective)\n",
    "    \n",
    "    for i in tqdm(range(len(fits))):\n",
    "        population = [parent,]\n",
    "        best = 0\n",
    "        for j in range(1, 𝜆):\n",
    "            population.append(mutate(parent))\n",
    "            evaluate(population[j], objective) \n",
    "            if population[j].fitness > population[best].fitness:\n",
    "                best = j\n",
    "        if population[best].fitness >= parent.fitness:\n",
    "            parent = population[best]\n",
    "        fits[i] = parent.fitness\n",
    "    return fits"
   ]
  },
  {
   "cell_type": "code",
   "execution_count": 22,
   "metadata": {},
   "outputs": [
    {
     "name": "stdout",
     "output_type": "stream",
     "text": [
      "17\n"
     ]
    }
   ],
   "source": [
    "n = 100\n",
    "𝜆 = int(round(np.log(n)*np.log(np.log(n))/np.log(np.log(np.log(n)))))\n",
    "print(𝜆)"
   ]
  },
  {
   "cell_type": "markdown",
   "metadata": {},
   "source": [
    "Let's round up λ=20 for the sake of simplicity."
   ]
  },
  {
   "cell_type": "code",
   "execution_count": 23,
   "metadata": {},
   "outputs": [],
   "source": [
    "λ = 20"
   ]
  },
  {
   "cell_type": "code",
   "execution_count": 24,
   "metadata": {},
   "outputs": [
    {
     "name": "stderr",
     "output_type": "stream",
     "text": [
      "100%|██████████| 1000/1000 [00:00<00:00, 21428.15it/s]\n",
      " 38%|███▊      | 376/1000 [00:00<00:00, 1251.54it/s]"
     ]
    },
    {
     "name": "stderr",
     "output_type": "stream",
     "text": [
      "100%|██████████| 1000/1000 [00:00<00:00, 1284.88it/s]\n"
     ]
    },
    {
     "data": {
      "text/plain": [
       "(85.0, 95.0)"
      ]
     },
     "execution_count": 24,
     "metadata": {},
     "output_type": "execute_result"
    }
   ],
   "source": [
    "n = 100\n",
    "n_gens = 1000\n",
    "fits_1 = one_plus_one(n, n_gens, onemax)\n",
    "fits_𝜆 = one_plus_lambda(n, n_gens, onemax, 𝜆)\n",
    "fits_1[-1], fits_𝜆[-1]"
   ]
  },
  {
   "cell_type": "code",
   "execution_count": 25,
   "metadata": {},
   "outputs": [
    {
     "data": {
      "text/plain": [
       "<matplotlib.legend.Legend at 0x7f7c25c62c10>"
      ]
     },
     "execution_count": 25,
     "metadata": {},
     "output_type": "execute_result"
    },
    {
     "data": {
      "image/png": "[encoded data removed]",
      "text/plain": [
       "<Figure size 432x288 with 1 Axes>"
      ]
     },
     "metadata": {
      "needs_background": "light"
     },
     "output_type": "display_data"
    }
   ],
   "source": [
    "plt.plot(fits_1, label=\"1+1\", color='b')\n",
    "plt.plot(fits_𝜆, label=\"1+λ\", color='g')\n",
    "plt.xlabel(\"Generations\")\n",
    "plt.ylabel(\"Fitness\")\n",
    "plt.title(f\"One-Max on {n} Dimensions\")\n",
    "plt.legend()"
   ]
  },
  {
   "cell_type": "markdown",
   "metadata": {},
   "source": [
    "- (1+λ)-EA seems to be better than (1+1)-EA. But is this a fair comparison?\n",
    "- (1+λ)-EA actually runs λ evaluation functions per generation, while (1+1)-EA only runs 1 evaluation function per generation.\n",
    "- We need to plot the results base on the number of evaluations.\n",
    "\n"
   ]
  },
  {
   "cell_type": "code",
   "execution_count": 26,
   "metadata": {},
   "outputs": [
    {
     "data": {
      "image/png": "[encoded data removed]",
      "text/plain": [
       "<Figure size 432x288 with 1 Axes>"
      ]
     },
     "metadata": {
      "needs_background": "light"
     },
     "output_type": "display_data"
    }
   ],
   "source": [
    "plt.plot(fits_1, label=\"1+1\", color='b')\n",
    "plt.plot(np.arange(1,n_gens*𝜆,𝜆), fits_𝜆, label=\"1+λ\", color='g')\n",
    "plt.xlabel(\"Evaluations\")\n",
    "plt.ylabel(\"Fitness\")\n",
    "plt.title(f\"One-Max on {n} Dimensions\")\n",
    "plt.legend();\n"
   ]
  },
  {
   "cell_type": "markdown",
   "metadata": {},
   "source": [
    "- We should give each algorithm the same number of function evaluations, like this:"
   ]
  },
  {
   "cell_type": "code",
   "execution_count": 27,
   "metadata": {},
   "outputs": [
    {
     "name": "stderr",
     "output_type": "stream",
     "text": [
      "100%|██████████| 10000/10000 [00:02<00:00, 3796.92it/s]\n",
      "100%|██████████| 500/500 [00:02<00:00, 200.70it/s]\n"
     ]
    }
   ],
   "source": [
    "n = 1000\n",
    "n_gens = 10000\n",
    "fits_1 = one_plus_one(n, n_gens, onemax)\n",
    "fits_𝜆 = one_plus_lambda(n, int(n_gens/𝜆), onemax, 𝜆)"
   ]
  },
  {
   "cell_type": "code",
   "execution_count": 28,
   "metadata": {},
   "outputs": [
    {
     "data": {
      "image/png": "[encoded data removed]",
      "text/plain": [
       "<Figure size 432x288 with 1 Axes>"
      ]
     },
     "metadata": {
      "needs_background": "light"
     },
     "output_type": "display_data"
    }
   ],
   "source": [
    "plt.plot(fits_1, label=\"1+1\", color='b')\n",
    "plt.plot(np.arange(1,n_gens,𝜆), fits_𝜆, label=\"1+λ\", color='g')\n",
    "plt.xlabel(\"Evaluations\")\n",
    "plt.ylabel(\"Fitness\")\n",
    "plt.title(f\"One-Max on {n} Dimensions\")\n",
    "plt.legend();"
   ]
  },
  {
   "cell_type": "markdown",
   "metadata": {},
   "source": [
    "- Because EAs employ randomness in their operations, to assess the performance of EAs, we should run them multiple times.\n",
    "- Let's run each algorithm 10 independent times."
   ]
  },
  {
   "cell_type": "code",
   "execution_count": 29,
   "metadata": {},
   "outputs": [
    {
     "name": "stderr",
     "output_type": "stream",
     "text": [
      "100%|██████████| 1000/1000 [00:00<00:00, 24085.26it/s]\n",
      "100%|██████████| 50/50 [00:00<00:00, 1337.25it/s]\n",
      "100%|██████████| 1000/1000 [00:00<00:00, 26546.56it/s]\n",
      "100%|██████████| 50/50 [00:00<00:00, 1345.43it/s]\n",
      "100%|██████████| 1000/1000 [00:00<00:00, 25789.20it/s]\n",
      "100%|██████████| 50/50 [00:00<00:00, 1347.46it/s]\n",
      "100%|██████████| 1000/1000 [00:00<00:00, 25690.16it/s]\n",
      "100%|██████████| 50/50 [00:00<00:00, 1362.74it/s]\n",
      "100%|██████████| 1000/1000 [00:00<00:00, 25876.87it/s]\n",
      "100%|██████████| 50/50 [00:00<00:00, 1382.73it/s]\n",
      "100%|██████████| 1000/1000 [00:00<00:00, 26109.15it/s]\n",
      "100%|██████████| 50/50 [00:00<00:00, 1340.69it/s]\n",
      "100%|██████████| 1000/1000 [00:00<00:00, 26442.13it/s]\n",
      "100%|██████████| 50/50 [00:00<00:00, 1302.40it/s]\n",
      "100%|██████████| 1000/1000 [00:00<00:00, 25709.06it/s]\n",
      "100%|██████████| 50/50 [00:00<00:00, 1352.51it/s]\n",
      "100%|██████████| 1000/1000 [00:00<00:00, 25830.49it/s]\n",
      "100%|██████████| 50/50 [00:00<00:00, 1343.51it/s]\n",
      "100%|██████████| 1000/1000 [00:00<00:00, 25853.26it/s]\n",
      "100%|██████████| 50/50 [00:00<00:00, 1253.72it/s]\n"
     ]
    }
   ],
   "source": [
    "n_trials = 10\n",
    "n = 100\n",
    "n_gens = 1000\n",
    "\n",
    "fits_1 = np.zeros((n_gens, n_trials))\n",
    "fits_𝜆 = np.zeros((int(n_gens/𝜆), n_trials))\n",
    "\n",
    "for i in range(n_trials):\n",
    "    fits_1[:, i] = one_plus_one(n, n_gens, onemax)\n",
    "    fits_𝜆[:, i] = one_plus_lambda(n, int(n_gens/𝜆), onemax, 𝜆)"
   ]
  },
  {
   "cell_type": "code",
   "execution_count": 30,
   "metadata": {},
   "outputs": [
    {
     "name": "stdout",
     "output_type": "stream",
     "text": [
      "(1000,) (1000,)\n",
      "(50,) (50,)\n"
     ]
    }
   ],
   "source": [
    "μ_1 = np.mean(fits_1, axis=1)\n",
    "σ_1 = np.std(fits_1, axis=1)\n",
    "μ_𝜆 = np.mean(fits_𝜆, axis=1)\n",
    "σ_𝜆 = np.std(fits_𝜆, axis=1)\n",
    "print(np.shape(μ_1), np.shape(σ_1))\n",
    "print(np.shape(μ_𝜆), np.shape(σ_𝜆))\n"
   ]
  },
  {
   "cell_type": "code",
   "execution_count": 31,
   "metadata": {},
   "outputs": [
    {
     "data": {
      "image/png": "[encoded data removed]",
      "text/plain": [
       "<Figure size 432x288 with 1 Axes>"
      ]
     },
     "metadata": {
      "needs_background": "light"
     },
     "output_type": "display_data"
    }
   ],
   "source": [
    "plt.plot(μ_1, label=\"1+1\", color='b')\n",
    "plt.fill_between(np.arange(0, n_gens), μ_1+σ_1, μ_1-σ_1, facecolor='b', alpha=0.1)\n",
    "plt.plot(np.arange(1,n_gens,𝜆), μ_𝜆, label=\"1+λ\", color='g')\n",
    "plt.fill_between(np.arange(0, n_gens, 𝜆), μ_𝜆+σ_𝜆, μ_𝜆-σ_𝜆, facecolor='b', alpha=0.1)\n",
    "plt.xlabel(\"Evaluations\")\n",
    "plt.ylabel(\"Fitness\")\n",
    "plt.title(f\"One-Max on {n} Dimensions\")\n",
    "plt.legend();"
   ]
  },
  {
   "cell_type": "markdown",
   "metadata": {},
   "source": [
    "Question: Compare the (1+1)-EA and (1+λ)-EA on the Leading Ones problem."
   ]
  },
  {
   "cell_type": "markdown",
   "metadata": {},
   "source": [
    "## Algorithm control parameters\n",
    "- In practice, the choice of mutation rate \n",
    "p\n",
    " and population size λ greatly influence experimental results.\n",
    "- We can also use self-adjusting parameters, which is similar to what simulated annealing uses."
   ]
  },
  {
   "cell_type": "markdown",
   "metadata": {},
   "source": [
    "### Question:\n",
    "\n",
    "- Investigave the effect of population size λ and mutation rate \n",
    "p\n",
    " on (1+1)-EA and (1+λ)-EA.\n",
    "- Try implementing a dynamic mutation rate (e.g., a mutation rate that decreases over time) and compared it with the fixed mutation rate \n",
    "p\n",
    "=\n",
    "1\n",
    "n\n",
    "."
   ]
  },
  {
   "cell_type": "markdown",
   "metadata": {},
   "source": [
    "# Assignment\n"
   ]
  },
  {
   "cell_type": "markdown",
   "metadata": {},
   "source": [
    "## Onemax problem"
   ]
  },
  {
   "cell_type": "markdown",
   "metadata": {},
   "source": [
    "Define problem size, runtime\n"
   ]
  },
  {
   "cell_type": "code",
   "execution_count": 32,
   "metadata": {},
   "outputs": [],
   "source": [
    "n_trials = 10\n",
    "n = 20\n",
    "n_gens = 1_000\n",
    "𝜆 = 2"
   ]
  },
  {
   "cell_type": "code",
   "execution_count": 33,
   "metadata": {},
   "outputs": [
    {
     "name": "stderr",
     "output_type": "stream",
     "text": [
      "100%|██████████| 1000/1000 [00:00<00:00, 51689.64it/s]\n",
      "100%|██████████| 500/500 [00:00<00:00, 45379.15it/s]\n",
      "100%|██████████| 1000/1000 [00:00<00:00, 46919.30it/s]\n",
      "100%|██████████| 500/500 [00:00<00:00, 43102.50it/s]\n",
      "100%|██████████| 1000/1000 [00:00<00:00, 48270.31it/s]\n",
      "100%|██████████| 500/500 [00:00<00:00, 51849.38it/s]\n",
      "100%|██████████| 1000/1000 [00:00<00:00, 54000.90it/s]\n",
      "100%|██████████| 500/500 [00:00<00:00, 37534.94it/s]\n",
      "100%|██████████| 1000/1000 [00:00<00:00, 52105.74it/s]\n",
      "100%|██████████| 500/500 [00:00<00:00, 53467.40it/s]\n",
      "100%|██████████| 1000/1000 [00:00<00:00, 45211.37it/s]\n",
      "100%|██████████| 500/500 [00:00<00:00, 49279.82it/s]\n",
      "100%|██████████| 1000/1000 [00:00<00:00, 55561.79it/s]\n",
      "100%|██████████| 500/500 [00:00<00:00, 53177.27it/s]\n",
      "100%|██████████| 1000/1000 [00:00<00:00, 50121.34it/s]\n",
      "100%|██████████| 500/500 [00:00<00:00, 43754.48it/s]\n",
      "100%|██████████| 1000/1000 [00:00<00:00, 51407.71it/s]\n",
      "100%|██████████| 500/500 [00:00<00:00, 51508.09it/s]\n",
      "100%|██████████| 1000/1000 [00:00<00:00, 48928.00it/s]\n",
      "100%|██████████| 500/500 [00:00<00:00, 43542.80it/s]\n"
     ]
    }
   ],
   "source": [
    "\n",
    "fits_1 = np.zeros((n_gens, n_trials))\n",
    "fits_𝜆 = np.zeros((int(n_gens/𝜆), n_trials))\n",
    "\n",
    "for i in range(n_trials):\n",
    "    fits_1[:, i] = one_plus_one(n, n_gens, onemax)\n",
    "    fits_𝜆[:, i] = one_plus_lambda(n, int(n_gens/𝜆), onemax, 𝜆)"
   ]
  },
  {
   "cell_type": "code",
   "execution_count": 34,
   "metadata": {},
   "outputs": [
    {
     "name": "stdout",
     "output_type": "stream",
     "text": [
      "(1000,) (1000,)\n",
      "(500,) (500,)\n"
     ]
    }
   ],
   "source": [
    "μ_1 = np.mean(fits_1, axis=1)\n",
    "σ_1 = np.std(fits_1, axis=1)\n",
    "μ_𝜆 = np.mean(fits_𝜆, axis=1)\n",
    "σ_𝜆 = np.std(fits_𝜆, axis=1)\n",
    "print(np.shape(μ_1), np.shape(σ_1))\n",
    "print(np.shape(μ_𝜆), np.shape(σ_𝜆))\n"
   ]
  },
  {
   "cell_type": "code",
   "execution_count": 35,
   "metadata": {},
   "outputs": [
    {
     "data": {
      "image/png": "[encoded data removed]",
      "text/plain": [
       "<Figure size 432x288 with 1 Axes>"
      ]
     },
     "metadata": {
      "needs_background": "light"
     },
     "output_type": "display_data"
    }
   ],
   "source": [
    "plt.plot(μ_1, label=\"1+1\", color='b')\n",
    "plt.fill_between(np.arange(0, n_gens), μ_1+σ_1, μ_1-σ_1, facecolor='b', alpha=0.1)\n",
    "plt.plot(np.arange(1,n_gens,𝜆), μ_𝜆, label=\"1+λ\", color='g')\n",
    "plt.fill_between(np.arange(0, n_gens, 𝜆), μ_𝜆+σ_𝜆, μ_𝜆-σ_𝜆, facecolor='b', alpha=0.1)\n",
    "plt.xlabel(\"Evaluations\")\n",
    "plt.ylabel(\"Fitness\")\n",
    "plt.title(f\"One-Max on {n} Dimensions\")\n",
    "plt.legend();"
   ]
  },
  {
   "cell_type": "markdown",
   "metadata": {},
   "source": [
    "## Leading Ones Problem"
   ]
  },
  {
   "cell_type": "markdown",
   "metadata": {},
   "source": [
    "Define problem size, runtime\n"
   ]
  },
  {
   "cell_type": "code",
   "execution_count": 36,
   "metadata": {},
   "outputs": [],
   "source": [
    "n_trials = 10\n",
    "n = 20\n",
    "n_gens = 1_000 \n",
    "𝜆 = 10"
   ]
  },
  {
   "cell_type": "code",
   "execution_count": 37,
   "metadata": {},
   "outputs": [
    {
     "name": "stderr",
     "output_type": "stream",
     "text": [
      "100%|██████████| 1000/1000 [00:00<00:00, 36958.78it/s]\n",
      "100%|██████████| 100/100 [00:00<00:00, 6695.78it/s]\n",
      "100%|██████████| 1000/1000 [00:00<00:00, 56652.99it/s]\n",
      "100%|██████████| 100/100 [00:00<00:00, 5350.15it/s]\n"
     ]
    },
    {
     "name": "stderr",
     "output_type": "stream",
     "text": [
      "100%|██████████| 1000/1000 [00:00<00:00, 34289.60it/s]\n",
      "100%|██████████| 100/100 [00:00<00:00, 7093.36it/s]\n",
      "100%|██████████| 1000/1000 [00:00<00:00, 46118.62it/s]\n",
      "100%|██████████| 100/100 [00:00<00:00, 6215.63it/s]\n",
      "100%|██████████| 1000/1000 [00:00<00:00, 45151.51it/s]\n",
      "100%|██████████| 100/100 [00:00<00:00, 5059.29it/s]\n",
      "100%|██████████| 1000/1000 [00:00<00:00, 51775.78it/s]\n",
      "100%|██████████| 100/100 [00:00<00:00, 6199.55it/s]\n",
      "100%|██████████| 1000/1000 [00:00<00:00, 61625.66it/s]\n",
      "100%|██████████| 100/100 [00:00<00:00, 4507.73it/s]\n",
      "100%|██████████| 1000/1000 [00:00<00:00, 53150.32it/s]\n",
      "100%|██████████| 100/100 [00:00<00:00, 6584.26it/s]\n",
      "100%|██████████| 1000/1000 [00:00<00:00, 57448.35it/s]\n",
      "100%|██████████| 100/100 [00:00<00:00, 5852.65it/s]\n",
      "100%|██████████| 1000/1000 [00:00<00:00, 51973.38it/s]\n",
      "100%|██████████| 100/100 [00:00<00:00, 6110.05it/s]\n"
     ]
    }
   ],
   "source": [
    "fits_1 = np.zeros((n_gens, n_trials))\n",
    "fits_𝜆 = np.zeros((int(n_gens/𝜆), n_trials))\n",
    "\n",
    "for i in range(n_trials):\n",
    "    fits_1[:, i] = one_plus_one(n, n_gens, leading_ones)\n",
    "    fits_𝜆[:, i] = one_plus_lambda(n, int(n_gens/𝜆), leading_ones, 𝜆)"
   ]
  },
  {
   "cell_type": "code",
   "execution_count": 38,
   "metadata": {},
   "outputs": [
    {
     "name": "stdout",
     "output_type": "stream",
     "text": [
      "(1000,) (1000,)\n",
      "(100,) (100,)\n"
     ]
    }
   ],
   "source": [
    "μ_1 = np.mean(fits_1, axis=1)\n",
    "σ_1 = np.std(fits_1, axis=1)\n",
    "μ_𝜆 = np.mean(fits_𝜆, axis=1)\n",
    "σ_𝜆 = np.std(fits_𝜆, axis=1)\n",
    "print(np.shape(μ_1), np.shape(σ_1))\n",
    "print(np.shape(μ_𝜆), np.shape(σ_𝜆))"
   ]
  },
  {
   "cell_type": "code",
   "execution_count": 39,
   "metadata": {},
   "outputs": [
    {
     "data": {
      "image/png": "[encoded data removed]",
      "text/plain": [
       "<Figure size 432x288 with 1 Axes>"
      ]
     },
     "metadata": {
      "needs_background": "light"
     },
     "output_type": "display_data"
    }
   ],
   "source": [
    "plt.plot(μ_1, label=\"1+1\", color='b')\n",
    "plt.fill_between(np.arange(0, n_gens), μ_1+σ_1, μ_1-σ_1, facecolor='b', alpha=0.1)\n",
    "plt.plot(np.arange(1,n_gens,𝜆), μ_𝜆, label=\"1+λ\", color='g')\n",
    "plt.fill_between(np.arange(0, n_gens, 𝜆), μ_𝜆+σ_𝜆, μ_𝜆-σ_𝜆, facecolor='b', alpha=0.1)\n",
    "plt.xlabel(\"Evaluations\")\n",
    "plt.ylabel(\"Fitness\")\n",
    "plt.title(f\"Leading one on {n} Dimensions\")\n",
    "plt.legend();"
   ]
  },
  {
   "cell_type": "markdown",
   "metadata": {},
   "source": [
    "## Conclusions:\n",
    "Based on the plot and the code, we can draw some conclusions:\n",
    "- The \"1+λ\" strategy introduces more variability in fitness values due to the larger population size (λ). This can be seen as greater fluctuations in the green curve.\n",
    "- The \"1+1\" strategy tends to achieve higher fitness values faster than the \"1+λ\" strategy, as shown by the faster initial increase in the blue curve.\n",
    "- However, both strategies eventually converge to similar fitness levels, as indicated by the leveling off of both curves.\n",
    "The \"1+1\" strategy has a more stable fitness progression, while the \"1+λ\" strategy exhibits more oscillations. This is expected because the \"1+λ\" strategy explores multiple solutions at once, leading to greater variability.\n"
   ]
  }
 ],
 "metadata": {
  "kernelspec": {
   "display_name": "env",
   "language": "python",
   "name": "python3"
  },
  "language_info": {
   "codemirror_mode": {
    "name": "ipython",
    "version": 3
   },
   "file_extension": ".py",
   "mimetype": "text/x-python",
   "name": "python",
   "nbconvert_exporter": "python",
   "pygments_lexer": "ipython3",
   "version": "3.7.16"
  },
  "orig_nbformat": 4
 },
 "nbformat": 4,
 "nbformat_minor": 2
}
